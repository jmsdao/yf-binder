{
 "cells": [
  {
   "cell_type": "code",
   "execution_count": null,
   "id": "afe9cd35",
   "metadata": {
    "tags": []
   },
   "outputs": [],
   "source": [
    "import numpy as np\n",
    "import pandas as pd\n",
    "import seaborn as sns\n",
    "import yfinance as yf\n",
    "sns.set()"
   ]
  },
  {
   "cell_type": "code",
   "execution_count": null,
   "id": "6adf0b39",
   "metadata": {
    "tags": []
   },
   "outputs": [],
   "source": [
    "asset = 'SOXL'\n",
    "benchmark = 'SPY'\n",
    "holding_period = 1  # years"
   ]
  },
  {
   "cell_type": "code",
   "execution_count": null,
   "id": "16f67306",
   "metadata": {
    "tags": []
   },
   "outputs": [],
   "source": [
    "df = yf.download(asset + ' ' + benchmark)['Adj Close']"
   ]
  },
  {
   "cell_type": "code",
   "execution_count": null,
   "id": "714c709b",
   "metadata": {
    "tags": []
   },
   "outputs": [],
   "source": [
    "for ticker in [asset, benchmark]:\n",
    "    df[f'{ticker}_{holding_period}y'] = df[ticker].shift(int(-252 * holding_period))"
   ]
  },
  {
   "cell_type": "code",
   "execution_count": null,
   "id": "ac74dd1c",
   "metadata": {
    "tags": []
   },
   "outputs": [],
   "source": [
    "for ticker in [asset, benchmark]:\n",
    "    df[f'{ticker}_fwdret'] = np.log(df[f'{ticker}_{holding_period}y'] / df[ticker])"
   ]
  },
  {
   "cell_type": "code",
   "execution_count": null,
   "id": "2c2f46d2",
   "metadata": {
    "tags": []
   },
   "outputs": [],
   "source": [
    "df[[f'{benchmark}_fwdret', f'{asset}_fwdret']].dropna().plot(figsize=(16, 8))"
   ]
  },
  {
   "cell_type": "code",
   "execution_count": null,
   "id": "f44d10c2",
   "metadata": {
    "tags": []
   },
   "outputs": [],
   "source": [
    "# Set notebook mode to work in offline\n",
    "from plotly.offline import init_notebook_mode\n",
    "init_notebook_mode()"
   ]
  },
  {
   "cell_type": "code",
   "execution_count": null,
   "id": "da2ae406",
   "metadata": {
    "tags": []
   },
   "outputs": [],
   "source": [
    "import plotly.express as px\n",
    "long_df = px.data.medals_long()\n",
    "\n",
    "fig = px.bar(long_df, x=\"nation\", y=\"count\", color=\"medal\", title=\"Long-Form Input\")\n",
    "fig.show()"
   ]
  }
 ],
 "metadata": {
  "kernelspec": {
   "display_name": "Python 3",
   "language": "python",
   "name": "python3"
  },
  "language_info": {
   "codemirror_mode": {
    "name": "ipython",
    "version": 3
   },
   "file_extension": ".py",
   "mimetype": "text/x-python",
   "name": "python",
   "nbconvert_exporter": "python",
   "pygments_lexer": "ipython3",
   "version": "3.8.8"
  }
 },
 "nbformat": 4,
 "nbformat_minor": 5
}
